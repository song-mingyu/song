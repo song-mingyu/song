{
  "nbformat": 4,
  "nbformat_minor": 0,
  "metadata": {
    "colab": {
      "name": "Untitled0.ipynb",
      "provenance": [],
      "authorship_tag": "ABX9TyPG38IlYppMA+2BbzW/nZOj",
      "include_colab_link": true
    },
    "kernelspec": {
      "name": "python3",
      "display_name": "Python 3"
    }
  },
  "cells": [
    {
      "cell_type": "markdown",
      "metadata": {
        "id": "view-in-github",
        "colab_type": "text"
      },
      "source": [
        "<a href=\"https://colab.research.google.com/github/song-mingyu/song/blob/master/Untitled0.ipynb\" target=\"_parent\"><img src=\"https://colab.research.google.com/assets/colab-badge.svg\" alt=\"Open In Colab\"/></a>"
      ]
    },
    {
      "cell_type": "markdown",
      "metadata": {
        "id": "uJUoOdrzpt6S",
        "colab_type": "text"
      },
      "source": [
        "#**1주차 과제**\n",
        "\n",
        "###**재미있는 인공지능 활용**\n",
        "\n",
        "\n",
        "* 이미지  \n",
        "\n",
        "  * 인공지능 매니아층에선 **YOLO**라는 말을 사용한다고 한다. **YOLO**란 You Only Look Once 말 그대로 한번만에 물체를 실시간으로 감지하고 분류할수 있다는 뜻이다.  \n",
        "\n",
        "  * 이미지의 관심 객체를 배경과 구분해 식별하는 **자동화 기법**인데 올바른 객체 탐지를 위해서 경계 박스를 설정해 객체의 상태를 나타내는 사물의 카테고리를 연관시키는데 이때 딥러닝 기술이 활용되며 딥러닝과 YOLO는 많으곳에 사용된다.\n",
        "\n",
        "  * x선 이미지를 보고 병 진단 또한 AI기술의 활용이다 미국 연구팀은 흉부 X선(엑스선) 이미지를 판독해 질환을 알아낼 수 있는 인공지능 알고리즘 ‘CheXNeXt’찾아냈고 90초만에 모든 이미지를 판독하고 전문의보다 더 정확하게 진단을 내렸다고 한다 [링크 텍스트](https://terms.naver.com/entry.nhn?docId=5687467&cid=60296&categoryId=60304) \n",
        "\n",
        "  * 또한 이미지 분석을 통한 범죄자 판별을 할 수 있다고 한다. 인공지능이 cctv이미지를 보고 딥러닝을 통하여 빠르게 판별할 수 있다고 한다. \n",
        "\n",
        "![대체 텍스트](https://m.post.naver.com/viewer/image.nhn?src=https%3A%2F%2Fpost-phinf.pstatic.net%2FMjAyMDA0MTZfNTkg%2FMDAxNTg2OTk5Njk1MTY2.iwVXGHzZ9VJtuYLW8rZTyxGaCTjez6yAqgVt5UiXN-Mg.vAW5fZEkwkRKIo8AmhIcFA7LkKk0SoJounFQc8p2QC4g.PNG%2FLG_CNS_02.png)  \n",
        "\n",
        "\n",
        "* 자율주행\n",
        "    *  자율주행 기술을 위해서는 인식,판단,제어를 하기 위해 다양한 융합 기술이 필요한데 이 중 센서 및 인식과 관련된 기술이 가장 중요한 기술 중 하나이다.  \n",
        "\n",
        "    *  카메라는 사람의  눈과 같은 기능을 하기 때문에 카메라를 통해서 차선 인식, 차량인식, 신호등 인식, 표지판인식등 자율주행에 필요한 기본적인 정보를 얻어올 수 있다.  \n",
        "\n",
        "    * 이떄 딥러닝이 활용되는데 딥러닝은 이런 비전식 기술, 음성인식 기술, 사용자 모니터링등의 데이터 인식율을 크게 높일 수 있기 때문에 완전 자율주행시대를 앞당기는 역활을 할 수 있다.  \n",
        "\n",
        "![대체 텍스트](https://m.post.naver.com/viewer/image.nhn?src=https%3A%2F%2Fpost-phinf.pstatic.net%2FMjAxOTEwMjJfMTMx%2FMDAxNTcxNzMyNDU0OTI0.6p_WuFZj9dbX6m3pj30qEx9oAPO1f94LK4rT2eumMQMg.uYZIh-qLJy1_vY9SJ5D1hDBjGNIlIVhbKlORHljLi1Mg.JPEG%2F186424_151644_1211.jpg)\n",
        "\n",
        "* 의료분야(음성신호처리)\n",
        "    *  최근 우리를 방콕하게 만든 코로나 19 사태를 가장 먼저 예측한곳이 캐나다의 AI 의료 플랫폼 업체 브루닷이 12월 31일 세계의료보건기구(WHO)보다 먼저 감지하고 예측했다고 한다.  \n",
        "\n",
        "    코로나 사태 이전에도 전엽병 분석프로그램 **헬스맵**을 사용하여 AI예측 시스템의 능력을 보여준적이 많았다고 한다.  \n",
        "\n",
        "    전염병 예측 외에도 질병의 1)조기 진단 예방서비스 제공 2)새로운 치료법 및 신약 개발 등 다양한 의료 분야에서도 활용된다고 한다.  \n",
        "\n",
        "    특히 정신상담분야에 각광을 받는데 음성신호처리 기술과 AI를 이용해 대화내용을 분석하고 음성의 떨림이나 억양 호흡등을 분석하여 우울증 자살 전조증상 탐지하는 머신러닝 기술로 가능하다고 한다.  \n",
        "\n",
        "![대체 텍스트](https://m.post.naver.com/viewer/image.nhn?src=https%3A%2F%2Fpost-phinf.pstatic.net%2FMjAyMDA0MTZfMjAx%2FMDAxNTg2OTk5NzMyNDc3.ooMAX6NJHhCRQ9l_CkQosoXtWV3H-J1XdFmGLoIkSr4g.fU-DYjK8oijEOLLN9IMe_bIwjaAY_zDQytoTyc_z7vcg.PNG%2FLG_CNS_03.png)\n",
        "\n",
        "* 교육(언어)분야  \n",
        "    * 2030년에는 학생들이 인공지능이 접목된 로봇 교사를 통해 교육받을 것으로 내다 봤다고 한다.  \n",
        "\n",
        "    우리나라도 작년 5월 교육부에서 초등학교 영어교육 내실화 게획을 발표했는데 주요내용 중 첫번쨰가 AI로 영어 말하기 연습 시스템 개발이였다고 한다. Ai와 1대1 대화를 연습하고 학생 맞춤형 영어 콘텐츠를 추천해 듣기,말하기 기회를 제공해주는 내용이였다.  \n",
        "\n",
        "    영어로 말할때 선생님이나 친구앞에서 틀리까 위축되지만 AI는 가상의 존재이기 때문에 실수를 해도 다시 말할 자신감이 생긴다는 장점이 있고 사실 AI가 교육분야에서 중요한 이유는 문법 오류나 발음 교정보다는 수준이 천차만별 다양한 학생들에게 맞춤형 자기주도학습을 제공할 수 있다는 점이다.\n",
        "\n",
        "    * 파파고 언어 번역기도 인공지능사용 하나의 예라고 볼 수있다.[링크 텍스트](https://m.post.naver.com/viewer/postView.nhn?volumeNo=5446014&memberNo=1217380&vType=VERTICAL)   \n",
        "\n",
        "    네이버연구팀은 자체개발한N2MT 인공지능이 학습을 통해 완벽에 가깝게 배워간다는 것이다. 기존엔 문장을 번역할때 일정 단위로 잘라서 번역하고 다시 어순을 맞춰 번역하는 형태 그래서 엉뚱한 결과 물이 나오는 방식이였는데 인공지능을 활용한 방식은 과거 비슷한 유형을 번역했던 결과물을 거억하고 대조하여 특정부분에 가중치를 두면서 보다 완벽한 문자을 만들어 낸다.\n",
        "\n",
        "![대체 텍스트](https://m.post.naver.com/viewer/image.nhn?src=https%3A%2F%2Fpost-phinf.pstatic.net%2FMjAyMDA0MTZfMjMx%2FMDAxNTg2OTk5NzYwOTc0.HBhd1ZpxY9vsxDQk7zd7QpoWlXCKu2_52o3qj9E5PpMg.YsDxq8ErEB9vwEHSz9vUnzHuB-0jz7KBlb4gn0wsBDQg.PNG%2FLG_CNS_05.png)\n",
        "\n",
        "\n"
      ]
    }
  ]
}